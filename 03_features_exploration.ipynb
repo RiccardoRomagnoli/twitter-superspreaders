{
 "cells": [
  {
   "cell_type": "code",
   "execution_count": 1,
   "metadata": {},
   "outputs": [
    {
     "name": "stdout",
     "output_type": "stream",
     "text": [
      "Requirement already satisfied: graphrole in /Users/petrus/opt/anaconda3/lib/python3.8/site-packages (1.0.1)\n",
      "Requirement already satisfied: numpy==1.19.1 in /Users/petrus/opt/anaconda3/lib/python3.8/site-packages (from graphrole) (1.19.1)\n",
      "Requirement already satisfied: scipy==1.5.2 in /Users/petrus/opt/anaconda3/lib/python3.8/site-packages (from graphrole) (1.5.2)\n",
      "Requirement already satisfied: networkx==2.5 in /Users/petrus/opt/anaconda3/lib/python3.8/site-packages (from graphrole) (2.5)\n",
      "Requirement already satisfied: pandas==1.1.1 in /Users/petrus/opt/anaconda3/lib/python3.8/site-packages (from graphrole) (1.1.1)\n",
      "Requirement already satisfied: scikit-learn==0.23.2 in /Users/petrus/opt/anaconda3/lib/python3.8/site-packages (from graphrole) (0.23.2)\n",
      "Requirement already satisfied: decorator>=4.3.0 in /Users/petrus/opt/anaconda3/lib/python3.8/site-packages (from networkx==2.5->graphrole) (4.4.2)\n",
      "Requirement already satisfied: python-dateutil>=2.7.3 in /Users/petrus/opt/anaconda3/lib/python3.8/site-packages (from pandas==1.1.1->graphrole) (2.8.1)\n",
      "Requirement already satisfied: pytz>=2017.2 in /Users/petrus/opt/anaconda3/lib/python3.8/site-packages (from pandas==1.1.1->graphrole) (2020.1)\n",
      "Requirement already satisfied: joblib>=0.11 in /Users/petrus/opt/anaconda3/lib/python3.8/site-packages (from scikit-learn==0.23.2->graphrole) (0.17.0)\n",
      "Requirement already satisfied: threadpoolctl>=2.0.0 in /Users/petrus/opt/anaconda3/lib/python3.8/site-packages (from scikit-learn==0.23.2->graphrole) (2.1.0)\n",
      "Requirement already satisfied: six>=1.5 in /Users/petrus/opt/anaconda3/lib/python3.8/site-packages (from python-dateutil>=2.7.3->pandas==1.1.1->graphrole) (1.15.0)\n"
     ]
    }
   ],
   "source": [
    "!pip install graphrole"
   ]
  },
  {
   "cell_type": "code",
   "execution_count": 14,
   "metadata": {},
   "outputs": [],
   "source": [
    "import pandas as pd\n",
    "import snap\n",
    "from src.load_and_save import load_networkx_directed_graph, save_list, load_list\n",
    "from graphrole import RecursiveFeatureExtractor, RoleExtractor"
   ]
  },
  {
   "cell_type": "code",
   "execution_count": 18,
   "metadata": {},
   "outputs": [],
   "source": [
    "spreading_path = \"data/spreading.edgelist\"\n",
    "spreading_features_path = \"data/spreading_features.csv\"\n",
    "followers_features_path = \"data/followers_features.csv\""
   ]
  },
  {
   "cell_type": "code",
   "execution_count": 19,
   "metadata": {},
   "outputs": [],
   "source": [
    "spreading_graph = load_networkx_directed_graph(spreading_path, weighted=True)"
   ]
  },
  {
   "cell_type": "code",
   "execution_count": null,
   "metadata": {},
   "outputs": [],
   "source": [
    "spreading_feature_extractor = RecursiveFeatureExtractor(spreading_graph)\n",
    "spreading_features = spreading_feature_extractor.extract_features()\n",
    "spreading_features.to_csv(spreading_features_path)"
   ]
  },
  {
   "cell_type": "code",
   "execution_count": null,
   "metadata": {},
   "outputs": [],
   "source": [
    "role_extractor = RoleExtractor()\n",
    "role_extractor.extract_role_factors(spreading_features)\n",
    "roles = role_extractor.roles"
   ]
  },
  {
   "cell_type": "code",
   "execution_count": null,
   "metadata": {},
   "outputs": [],
   "source": [
    "cluster_df = pd.DataFrame.from_dict(roles)"
   ]
  },
  {
   "cell_type": "markdown",
   "metadata": {},
   "source": [
    "# Adding extra features"
   ]
  },
  {
   "cell_type": "markdown",
   "metadata": {},
   "source": [
    "## Betweeness centrality"
   ]
  },
  {
   "cell_type": "code",
   "execution_count": null,
   "metadata": {},
   "outputs": [],
   "source": [
    "#snap_spreading_graph = snap.LoadEdgeList(snap.TNGraph, spreading_path, 0, 1)"
   ]
  },
  {
   "cell_type": "code",
   "execution_count": 17,
   "metadata": {},
   "outputs": [
    {
     "ename": "AttributeError",
     "evalue": "'DiGraph' object has no attribute 'GetBetweennessCentr'",
     "output_type": "error",
     "traceback": [
      "\u001b[0;31m---------------------------------------------------------------------------\u001b[0m",
      "\u001b[0;31mAttributeError\u001b[0m                            Traceback (most recent call last)",
      "\u001b[0;32m<ipython-input-17-7645acc48e30>\u001b[0m in \u001b[0;36m<module>\u001b[0;34m\u001b[0m\n\u001b[0;32m----> 1\u001b[0;31m \u001b[0mNodes\u001b[0m\u001b[0;34m,\u001b[0m \u001b[0m_\u001b[0m \u001b[0;34m=\u001b[0m \u001b[0mspreading_graph\u001b[0m\u001b[0;34m.\u001b[0m\u001b[0mGetBetweennessCentr\u001b[0m\u001b[0;34m(\u001b[0m\u001b[0;36m1.0\u001b[0m\u001b[0;34m,\u001b[0m \u001b[0;32mFalse\u001b[0m\u001b[0;34m)\u001b[0m\u001b[0;34m\u001b[0m\u001b[0;34m\u001b[0m\u001b[0m\n\u001b[0m\u001b[1;32m      2\u001b[0m \u001b[0mbetwCentrality_df\u001b[0m \u001b[0;34m=\u001b[0m \u001b[0mpd\u001b[0m\u001b[0;34m.\u001b[0m\u001b[0mDataFrame\u001b[0m\u001b[0;34m.\u001b[0m\u001b[0mfrom_dict\u001b[0m\u001b[0;34m(\u001b[0m\u001b[0mNodes\u001b[0m\u001b[0;34m)\u001b[0m\u001b[0;34m\u001b[0m\u001b[0;34m\u001b[0m\u001b[0m\n\u001b[1;32m      3\u001b[0m \u001b[0;31m#betweenessCentrList = []\u001b[0m\u001b[0;34m\u001b[0m\u001b[0;34m\u001b[0m\u001b[0;34m\u001b[0m\u001b[0m\n\u001b[1;32m      4\u001b[0m \u001b[0;31m#for node in Nodes:\u001b[0m\u001b[0;34m\u001b[0m\u001b[0;34m\u001b[0m\u001b[0;34m\u001b[0m\u001b[0m\n\u001b[1;32m      5\u001b[0m \u001b[0;31m#    betweenessCentrList.append(Nodes[node])\u001b[0m\u001b[0;34m\u001b[0m\u001b[0;34m\u001b[0m\u001b[0;34m\u001b[0m\u001b[0m\n",
      "\u001b[0;31mAttributeError\u001b[0m: 'DiGraph' object has no attribute 'GetBetweennessCentr'"
     ]
    }
   ],
   "source": [
    "Nodes, _ = spreading_graph.GetBetweennessCentr(1.0, False)\n",
    "betwCentrality_df = pd.DataFrame.from_dict(Nodes)\n",
    "#betweenessCentrList = []\n",
    "#for node in Nodes:\n",
    "#    betweenessCentrList.append(Nodes[node])"
   ]
  },
  {
   "cell_type": "markdown",
   "metadata": {},
   "source": [
    "## Kcoreness"
   ]
  },
  {
   "cell_type": "code",
   "execution_count": null,
   "metadata": {},
   "outputs": [],
   "source": [
    "KCorenessList = getKcorenessForEachNode()"
   ]
  },
  {
   "cell_type": "markdown",
   "metadata": {},
   "source": [
    "# Save to file"
   ]
  },
  {
   "cell_type": "code",
   "execution_count": null,
   "metadata": {},
   "outputs": [],
   "source": []
  },
  {
   "cell_type": "markdown",
   "metadata": {},
   "source": [
    "# Dummy example"
   ]
  },
  {
   "cell_type": "code",
   "execution_count": 6,
   "metadata": {},
   "outputs": [
    {
     "data": {
      "text/html": [
       "<div>\n",
       "<style scoped>\n",
       "    .dataframe tbody tr th:only-of-type {\n",
       "        vertical-align: middle;\n",
       "    }\n",
       "\n",
       "    .dataframe tbody tr th {\n",
       "        vertical-align: top;\n",
       "    }\n",
       "\n",
       "    .dataframe thead th {\n",
       "        text-align: right;\n",
       "    }\n",
       "</style>\n",
       "<table border=\"1\" class=\"dataframe\">\n",
       "  <thead>\n",
       "    <tr style=\"text-align: right;\">\n",
       "      <th></th>\n",
       "      <th>1</th>\n",
       "      <th>2</th>\n",
       "      <th>3</th>\n",
       "    </tr>\n",
       "  </thead>\n",
       "  <tbody>\n",
       "    <tr>\n",
       "      <th>0</th>\n",
       "      <td>1</td>\n",
       "      <td>2</td>\n",
       "      <td>3</td>\n",
       "    </tr>\n",
       "    <tr>\n",
       "      <th>1</th>\n",
       "      <td>2</td>\n",
       "      <td>3</td>\n",
       "      <td>4</td>\n",
       "    </tr>\n",
       "    <tr>\n",
       "      <th>2</th>\n",
       "      <td>1</td>\n",
       "      <td>2</td>\n",
       "      <td>3</td>\n",
       "    </tr>\n",
       "  </tbody>\n",
       "</table>\n",
       "</div>"
      ],
      "text/plain": [
       "   1  2  3\n",
       "0  1  2  3\n",
       "1  2  3  4\n",
       "2  1  2  3"
      ]
     },
     "execution_count": 6,
     "metadata": {},
     "output_type": "execute_result"
    }
   ],
   "source": [
    "dummy = pd.DataFrame(\n",
    "    [ [1, 2, 3],\n",
    "     [2, 3, 4],\n",
    "     [1, 2, 3]], columns=[\"1\", \"2\", \"3\"])\n",
    "dummy"
   ]
  },
  {
   "cell_type": "code",
   "execution_count": 7,
   "metadata": {},
   "outputs": [
    {
     "data": {
      "text/plain": [
       "{0: 'role_1', 1: 'role_0', 2: 'role_1'}"
      ]
     },
     "execution_count": 7,
     "metadata": {},
     "output_type": "execute_result"
    }
   ],
   "source": [
    "role_extractor = RoleExtractor(n_roles=None)\n",
    "role_extractor.extract_role_factors(dummy)\n",
    "role_extractor.roles"
   ]
  },
  {
   "cell_type": "markdown",
   "metadata": {},
   "source": [
    "# Documentation"
   ]
  },
  {
   "cell_type": "code",
   "execution_count": 8,
   "metadata": {},
   "outputs": [
    {
     "ename": "NameError",
     "evalue": "name 'graphrole' is not defined",
     "output_type": "error",
     "traceback": [
      "\u001b[0;31m---------------------------------------------------------------------------\u001b[0m",
      "\u001b[0;31mNameError\u001b[0m                                 Traceback (most recent call last)",
      "\u001b[0;32m<ipython-input-8-7c4f1b699e24>\u001b[0m in \u001b[0;36m<module>\u001b[0;34m\u001b[0m\n\u001b[0;32m----> 1\u001b[0;31m \u001b[0mgraphrole\u001b[0m\u001b[0;34m.\u001b[0m\u001b[0m__file__\u001b[0m\u001b[0;34m\u001b[0m\u001b[0;34m\u001b[0m\u001b[0m\n\u001b[0m",
      "\u001b[0;31mNameError\u001b[0m: name 'graphrole' is not defined"
     ]
    }
   ],
   "source": [
    "graphrole.__file__"
   ]
  }
 ],
 "metadata": {
  "kernelspec": {
   "display_name": "Python 3",
   "language": "python",
   "name": "python3"
  },
  "language_info": {
   "codemirror_mode": {
    "name": "ipython",
    "version": 3
   },
   "file_extension": ".py",
   "mimetype": "text/x-python",
   "name": "python",
   "nbconvert_exporter": "python",
   "pygments_lexer": "ipython3",
   "version": "3.8.5"
  },
  "metadata": {
   "interpreter": {
    "hash": "49738bc05e722cfde14632854e66f22de9a6439a547d62a5d479941a9eb40117"
   }
  }
 },
 "nbformat": 4,
 "nbformat_minor": 4
}
