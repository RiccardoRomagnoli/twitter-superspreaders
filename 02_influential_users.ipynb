{
 "cells": [
  {
   "cell_type": "markdown",
   "metadata": {},
   "source": [
    "# Influential users"
   ]
  },
  {
   "cell_type": "code",
   "execution_count": 1,
   "metadata": {},
   "outputs": [],
   "source": [
    "from src.load_and_save import load_networkx_directed_graph, load_snap_directed_graph, save_list, load_list\n",
    "from src.influential_users import *"
   ]
  },
  {
   "cell_type": "code",
   "execution_count": 2,
   "metadata": {},
   "outputs": [],
   "source": [
    "TOP_GENERATORS = 100\n",
    "TOP_SPREADERS = 100"
   ]
  },
  {
   "cell_type": "code",
   "execution_count": 3,
   "metadata": {},
   "outputs": [],
   "source": [
    "retweets_reduced_path = \"data/higgs-retweet_network_reduced.edgelist\"\n",
    "followers_path = \"data/higgs-social_network.edgelist\"\n",
    "followers_reduced_path = \"data/higgs-social_network_reduced.edgelist\"\n",
    "spreading_path = \"data/spreading.edgelist\"\n",
    "\n",
    "generators_path = f\"data/{TOP_GENERATORS}_generators.txt\"\n",
    "spreaders_pagerank_path = f\"data/{TOP_SPREADERS}_spreaders_pagerank.txt\"\n",
    "spreaders_celf_path = f\"data/{TOP_SPREADERS}_spreaders_celf.txt\""
   ]
  },
  {
   "cell_type": "markdown",
   "metadata": {},
   "source": [
    "## Content generators"
   ]
  },
  {
   "cell_type": "code",
   "execution_count": 4,
   "metadata": {},
   "outputs": [],
   "source": [
    "retweets_graph = load_networkx_directed_graph(retweets_reduced_path, weighted=True)\n",
    "generators = content_generators(retweets_graph, TOP_GENERATORS)\n",
    "save_list(generators, generators_path)"
   ]
  },
  {
   "cell_type": "markdown",
   "metadata": {},
   "source": [
    "## Content spreaders"
   ]
  },
  {
   "cell_type": "markdown",
   "metadata": {},
   "source": [
    "### PageRank"
   ]
  },
  {
   "cell_type": "code",
   "execution_count": 5,
   "metadata": {},
   "outputs": [],
   "source": [
    "spreading_graph_snap = load_snap_directed_graph(spreading_path)\n",
    "spreaders_pagerank = content_spreaders_pagerank(spreading_graph_snap, TOP_SPREADERS, C=0.85, Eps=0.0001, MaxIter=100)\n",
    "save_list(spreaders_pagerank, spreaders_pagerank_path)"
   ]
  },
  {
   "cell_type": "markdown",
   "metadata": {},
   "source": [
    "### CELF"
   ]
  },
  {
   "cell_type": "markdown",
   "metadata": {},
   "source": [
    "100 nodes, mc=100: [26 4 10179 134 718 15439 27 8312 16514 7020 407 4509 1 16970 2760 6940 492 13912 20718 16304 4218 370 12899 7111 3106 14565 4564 18506 15436 5851 7801 13139 5799 14957 8591 64853 20972 14803 11521 994 32 21929 6982 17332 9036 4514 9941 11170 16131 6992 128 11118 9903 17527 9231 12159 14540 11256 1597 30 9384 13074 5669 15794 16990 5064 14945 21704 13820 18086 13881 19837 13239 10 19035 10390 9254 621 8742 14131 15741 18094 10340 18775 10339 10276 10814 10789 13511 15857 9863 22382 6708 10194 7234 6136 9352 4344 9155 3820]"
   ]
  },
  {
   "cell_type": "code",
   "execution_count": 6,
   "metadata": {},
   "outputs": [
    {
     "name": "stdout",
     "output_type": "stream",
     "text": [
      "Inizialization:\n"
     ]
    },
    {
     "data": {
      "application/vnd.jupyter.widget-view+json": {
       "model_id": "0ddaf8e4178f4374bef549e770ff0e15",
       "version_major": 2,
       "version_minor": 0
      },
      "text/plain": [
       "HBox(children=(FloatProgress(value=0.0, max=19225.0), HTML(value='')))"
      ]
     },
     "metadata": {},
     "output_type": "display_data"
    },
    {
     "name": "stdout",
     "output_type": "stream",
     "text": [
      "\n",
      "Superspreaders extraction:\n"
     ]
    },
    {
     "data": {
      "application/vnd.jupyter.widget-view+json": {
       "model_id": "8f1b20fee1d7447aa41f8af0d5f49510",
       "version_major": 2,
       "version_minor": 0
      },
      "text/plain": [
       "HBox(children=(FloatProgress(value=0.0, max=99.0), HTML(value='')))"
      ]
     },
     "metadata": {},
     "output_type": "display_data"
    },
    {
     "name": "stdout",
     "output_type": "stream",
     "text": [
      "\n"
     ]
    }
   ],
   "source": [
    "spreading_graph_nx = load_networkx_directed_graph(spreading_path, weighted=True)\n",
    "spreaders_celf = content_spreaders_celf(spreading_graph_nx, TOP_SPREADERS, mc=100)\n",
    "save_list(spreaders_celf, spreaders_celf_path)"
   ]
  },
  {
   "cell_type": "code",
   "execution_count": null,
   "metadata": {},
   "outputs": [],
   "source": []
  }
 ],
 "metadata": {
  "kernelspec": {
   "display_name": "Python 3",
   "language": "python",
   "name": "python3"
  },
  "language_info": {
   "codemirror_mode": {
    "name": "ipython",
    "version": 3
   },
   "file_extension": ".py",
   "mimetype": "text/x-python",
   "name": "python",
   "nbconvert_exporter": "python",
   "pygments_lexer": "ipython3",
   "version": "3.8.5"
  }
 },
 "nbformat": 4,
 "nbformat_minor": 4
}
