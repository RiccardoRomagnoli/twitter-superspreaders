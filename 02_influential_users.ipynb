{
 "cells": [
  {
   "cell_type": "markdown",
   "metadata": {},
   "source": [
    "# Influential users"
   ]
  },
  {
   "cell_type": "code",
   "execution_count": 1,
   "metadata": {},
   "outputs": [],
   "source": [
    "from src.load_and_save import load_networkx_directed_graph, load_snap_directed_graph, save_list, load_list\n",
    "from src.influential_users import *"
   ]
  },
  {
   "cell_type": "code",
   "execution_count": 2,
   "metadata": {},
   "outputs": [],
   "source": [
    "TOP_GENERATORS = 100\n",
    "TOP_SPREADERS = 100"
   ]
  },
  {
   "cell_type": "code",
   "execution_count": 3,
   "metadata": {},
   "outputs": [],
   "source": [
    "retweets_reduced_path = \"data/higgs-retweet_network_reduced.edgelist\"\n",
    "followers_path = \"data/higgs-social_network.edgelist\"\n",
    "followers_reduced_path = \"data/higgs-social_network_reduced.edgelist\"\n",
    "spreading_path = \"data/spreading.edgelist\"\n",
    "\n",
    "generators_path = f\"data/{TOP_GENERATORS}_generators.txt\"\n",
    "spreaders_pagerank_path = f\"data/{TOP_SPREADERS}_spreaders_pagerank.txt\"\n",
    "spreaders_celf_path = f\"data/{TOP_SPREADERS}_spreaders_celf.txt\""
   ]
  },
  {
   "cell_type": "markdown",
   "metadata": {},
   "source": [
    "## Content generators"
   ]
  },
  {
   "cell_type": "code",
   "execution_count": 4,
   "metadata": {},
   "outputs": [],
   "source": [
    "retweets_graph = load_networkx_directed_graph(retweets_reduced_path, weighted=True)\n",
    "generators = content_generators(retweets_graph, TOP_GENERATORS)\n",
    "save_list(generators, generators_path)"
   ]
  },
  {
   "cell_type": "markdown",
   "metadata": {},
   "source": [
    "## Content spreaders"
   ]
  },
  {
   "cell_type": "markdown",
   "metadata": {},
   "source": [
    "### PageRank"
   ]
  },
  {
   "cell_type": "code",
   "execution_count": 5,
   "metadata": {},
   "outputs": [],
   "source": [
    "spreading_graph_snap = load_snap_directed_graph(spreading_path)\n",
    "spreaders_pagerank = content_spreaders_pagerank(spreading_graph_snap, TOP_SPREADERS, C=0.85, Eps=0.0001, MaxIter=100)\n",
    "save_list(spreaders_pagerank, spreaders_pagerank_path)"
   ]
  },
  {
   "cell_type": "markdown",
   "metadata": {},
   "source": [
    "### CELF"
   ]
  },
  {
   "cell_type": "markdown",
   "metadata": {},
   "source": [
    "100 nodes, mc=100: [88, 1, 3369, 6948, 407, 7551, 4, 403954, 14549, 301, 10, 339602, 408, 26, 76165, 6241, 83, 965, 35248, 267269, 383, 8756, 232850, 383474, 206362, 15, 1267, 6, 370, 5226, 2, 718, 23318, 138739, 22924, 186, 32, 11889, 2572, 38133, 392560, 50305, 398186, 133418, 8700, 42, 220, 254528, 72203, 51292, 230115, 550, 177829, 7801, 6585, 16801, 5335, 68304, 161272, 28854, 148960, 440391, 45472, 2687, 38819, 154584, 6708, 1250, 87601, 240547, 137329, 67504, 422519, 85434, 341612, 166216, 233404, 43, 154344, 5006, 442735, 128768, 3533, 93977, 144336, 198681, 60035, 4526, 40443, 445734, 400139, 295151, 227432, 154561, 79924, 14431, 67601, 258751, 364011, 349140]"
   ]
  },
  {
   "cell_type": "code",
   "execution_count": null,
   "metadata": {},
   "outputs": [
    {
     "name": "stdout",
     "output_type": "stream",
     "text": [
      "Inizialization:\n"
     ]
    },
    {
     "data": {
      "application/vnd.jupyter.widget-view+json": {
       "model_id": "0ddaf8e4178f4374bef549e770ff0e15",
       "version_major": 2,
       "version_minor": 0
      },
      "text/plain": [
       "HBox(children=(FloatProgress(value=0.0, max=19225.0), HTML(value='')))"
      ]
     },
     "metadata": {},
     "output_type": "display_data"
    },
    {
     "name": "stdout",
     "output_type": "stream",
     "text": [
      "\n",
      "Superspreaders extraction:\n"
     ]
    },
    {
     "data": {
      "application/vnd.jupyter.widget-view+json": {
       "model_id": "8f1b20fee1d7447aa41f8af0d5f49510",
       "version_major": 2,
       "version_minor": 0
      },
      "text/plain": [
       "HBox(children=(FloatProgress(value=0.0, max=99.0), HTML(value='')))"
      ]
     },
     "metadata": {},
     "output_type": "display_data"
    }
   ],
   "source": [
    "spreading_graph_nx = load_networkx_directed_graph(spreading_path, weighted=True)\n",
    "spreaders_celf = content_spreaders_celf(spreading_graph_nx, TOP_SPREADERS, mc=100)\n",
    "save_list(spreaders_celf, spreaders_celf_path)"
   ]
  },
  {
   "cell_type": "code",
   "execution_count": null,
   "metadata": {},
   "outputs": [],
   "source": []
  }
 ],
 "metadata": {
  "kernelspec": {
   "display_name": "Python 3",
   "language": "python",
   "name": "python3"
  },
  "language_info": {
   "codemirror_mode": {
    "name": "ipython",
    "version": 3
   },
   "file_extension": ".py",
   "mimetype": "text/x-python",
   "name": "python",
   "nbconvert_exporter": "python",
   "pygments_lexer": "ipython3",
   "version": "3.8.5"
  }
 },
 "nbformat": 4,
 "nbformat_minor": 4
}
