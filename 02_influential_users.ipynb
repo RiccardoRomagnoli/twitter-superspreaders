{
 "cells": [
  {
   "cell_type": "markdown",
   "metadata": {},
   "source": [
    "# Influential users"
   ]
  },
  {
   "cell_type": "code",
   "execution_count": 1,
   "metadata": {},
   "outputs": [],
   "source": [
    "from src.load_and_save import load_networkx_directed_graph, save_list, load_list\n",
    "from src.influential_users import *"
   ]
  },
  {
   "cell_type": "code",
   "execution_count": 2,
   "metadata": {},
   "outputs": [],
   "source": [
    "TOP_GENERATORS = 100\n",
    "TOP_SPREADERS = 100"
   ]
  },
  {
   "cell_type": "code",
   "execution_count": 3,
   "metadata": {},
   "outputs": [],
   "source": [
    "reduced_rt_path = \"data/higgs-retweet_network_reduced.edgelist\"\n",
    "followers_path = \"data/higgs-social_network.edgelist\"\n",
    "reduced_followers_path = \"data/higgs-social_network_reduced.edgelist\"\n",
    "spreading_path = \"data/spreading.edgelist\"\n",
    "\n",
    "generators_path = f\"data/{TOP_GENERATORS}_generators.txt\"\n",
    "spreaders_path = f\"data/{TOP_SPREADERS}_spreaders.txt\""
   ]
  },
  {
   "cell_type": "markdown",
   "metadata": {},
   "source": [
    "## Content generators"
   ]
  },
  {
   "cell_type": "code",
   "execution_count": 4,
   "metadata": {},
   "outputs": [],
   "source": [
    "retweets_graph = load_networkx_directed_graph(reduced_rt_path, weighted=True)\n",
    "generators = content_generators(retweets_graph, TOP_GENERATORS)\n",
    "save_list(generators, generators_path)"
   ]
  },
  {
   "cell_type": "markdown",
   "metadata": {},
   "source": [
    "## Content spreaders"
   ]
  },
  {
   "cell_type": "code",
   "execution_count": null,
   "metadata": {},
   "outputs": [],
   "source": []
  }
 ],
 "metadata": {
  "kernelspec": {
   "display_name": "Python 3",
   "language": "python",
   "name": "python3"
  },
  "language_info": {
   "codemirror_mode": {
    "name": "ipython",
    "version": 3
   },
   "file_extension": ".py",
   "mimetype": "text/x-python",
   "name": "python",
   "nbconvert_exporter": "python",
   "pygments_lexer": "ipython3",
   "version": "3.8.9"
  }
 },
 "nbformat": 4,
 "nbformat_minor": 4
}
