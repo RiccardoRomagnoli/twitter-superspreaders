{
 "cells": [
  {
   "cell_type": "markdown",
   "metadata": {},
   "source": [
    "# Influential users"
   ]
  },
  {
   "cell_type": "code",
   "execution_count": 2,
   "metadata": {},
   "outputs": [],
   "source": [
    "from src.load_and_save import load_networkx_directed_graph, load_snap_directed_graph, save_list, load_list\n",
    "from src.influential_users import *"
   ]
  },
  {
   "cell_type": "code",
   "execution_count": 3,
   "metadata": {},
   "outputs": [],
   "source": [
    "TOP_GENERATORS = 100\n",
    "TOP_SPREADERS = 100"
   ]
  },
  {
   "cell_type": "code",
   "execution_count": 4,
   "metadata": {},
   "outputs": [],
   "source": [
    "retweets_reduced_path = \"data/higgs-retweet_network_reduced.edgelist\"\n",
    "followers_path = \"data/higgs-social_network.edgelist\"\n",
    "followers_reduced_path = \"data/higgs-social_network_reduced.edgelist\"\n",
    "spreading_path = \"data/spreading.edgelist\"\n",
    "spreading_reversed_path = \"data/spreading_reversed.edgelist\"\n",
    "\n",
    "generators_path = f\"data/{TOP_GENERATORS}_generators.txt\"\n",
    "spreaders_pagerank_path = f\"data/{TOP_SPREADERS}_spreaders_pagerank.txt\"\n",
    "spreaders_celf_path = f\"data/{TOP_SPREADERS}_spreaders_celf.txt\""
   ]
  },
  {
   "cell_type": "markdown",
   "metadata": {},
   "source": [
    "## Content generators"
   ]
  },
  {
   "cell_type": "code",
   "execution_count": 5,
   "metadata": {},
   "outputs": [],
   "source": [
    "retweets_graph = load_networkx_directed_graph(retweets_reduced_path, weighted=True)\n",
    "generators = content_generators(retweets_graph, TOP_GENERATORS)\n",
    "save_list(generators, generators_path)"
   ]
  },
  {
   "cell_type": "markdown",
   "metadata": {},
   "source": [
    "## Content spreaders"
   ]
  },
  {
   "cell_type": "markdown",
   "metadata": {},
   "source": [
    "### PageRank"
   ]
  },
  {
   "cell_type": "code",
   "execution_count": 15,
   "metadata": {},
   "outputs": [],
   "source": [
    "spreading_graph_snap = load_snap_directed_graph(spreading_path)\n",
    "spreaders_pagerank = content_spreaders_pagerank(spreading_graph_snap, TOP_SPREADERS, C=0.85, Eps=0.000001, MaxIter=1000)\n",
    "save_list(spreaders_pagerank, spreaders_pagerank_path)"
   ]
  },
  {
   "cell_type": "markdown",
   "metadata": {},
   "source": [
    "### CELF"
   ]
  },
  {
   "cell_type": "code",
   "execution_count": 7,
   "metadata": {},
   "outputs": [
    {
     "name": "stdout",
     "output_type": "stream",
     "text": [
      "Inizialization:\n"
     ]
    },
    {
     "name": "stderr",
     "output_type": "stream",
     "text": [
      "D:\\OneDrive\\Documenti\\Universita KTH\\P23 - 2020\\ID2211 - Data Mining\\twitter-superspreaders\\src\\influential_users.py:95: UserWarning: It does not make sense to have more than 10% of content spreaders\n",
      "  warn(\"It does not make sense to have more than 10% of content spreaders\")\n"
     ]
    },
    {
     "data": {
      "application/vnd.jupyter.widget-view+json": {
       "model_id": "44b84677d92e4fd3902073a08af5aeb7",
       "version_major": 2,
       "version_minor": 0
      },
      "text/plain": [
       "  0%|          | 0/979 [00:00<?, ?it/s]"
      ]
     },
     "metadata": {},
     "output_type": "display_data"
    },
    {
     "name": "stdout",
     "output_type": "stream",
     "text": [
      "Superspreaders extraction:\n"
     ]
    },
    {
     "data": {
      "application/vnd.jupyter.widget-view+json": {
       "model_id": "f233e338f326419baf135f46f44ce18c",
       "version_major": 2,
       "version_minor": 0
      },
      "text/plain": [
       "  0%|          | 0/99 [00:00<?, ?it/s]"
      ]
     },
     "metadata": {},
     "output_type": "display_data"
    }
   ],
   "source": [
    "spreading_graph_nx = load_networkx_directed_graph(spreading_reversed_path, weighted=True)\n",
    "spreaders_celf = content_spreaders_celf(spreading_graph_nx, TOP_SPREADERS, mc=100)\n",
    "save_list(spreaders_celf, spreaders_celf_path)"
   ]
  },
  {
   "cell_type": "code",
   "execution_count": null,
   "metadata": {},
   "outputs": [],
   "source": []
  }
 ],
 "metadata": {
  "kernelspec": {
   "display_name": "Python 3",
   "language": "python",
   "name": "python3"
  },
  "language_info": {
   "codemirror_mode": {
    "name": "ipython",
    "version": 3
   },
   "file_extension": ".py",
   "mimetype": "text/x-python",
   "name": "python",
   "nbconvert_exporter": "python",
   "pygments_lexer": "ipython3",
   "version": "3.8.6"
  }
 },
 "nbformat": 4,
 "nbformat_minor": 4
}
