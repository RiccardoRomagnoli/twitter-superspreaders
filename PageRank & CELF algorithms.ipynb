{
 "cells": [
  {
   "cell_type": "code",
   "execution_count": 2,
   "metadata": {},
   "outputs": [
    {
     "name": "stdout",
     "output_type": "stream",
     "text": [
      "Requirement already satisfied: snap-stanford in c:\\users\\98ric\\appdata\\local\\programs\\python\\python38\\lib\\site-packages (6.0.0)\n",
      "WARNING: You are using pip version 21.0; however, version 21.1.1 is available.\n",
      "You should consider upgrading via the 'c:\\users\\98ric\\appdata\\local\\programs\\python\\python38\\python.exe -m pip install --upgrade pip' command.\n"
     ]
    }
   ],
   "source": [
    "!pip install snap-stanford "
   ]
  },
  {
   "cell_type": "code",
   "execution_count": null,
   "metadata": {},
   "outputs": [],
   "source": [
    "import matplotlib.pyplot as plt\n",
    "from random import uniform, seed\n",
    "import numpy as np\n",
    "import time\n",
    "\n",
    "import snap\n",
    "import seaborn as sns\n",
    "import pandas as pd"
   ]
  },
  {
   "cell_type": "code",
   "execution_count": 2,
   "metadata": {},
   "outputs": [
    {
     "name": "stderr",
     "output_type": "stream",
     "text": [
      "ERROR:root:Internal Python error in the inspect module.\n",
      "Below is the traceback from this internal error.\n",
      "\n"
     ]
    },
    {
     "name": "stdout",
     "output_type": "stream",
     "text": [
      "Traceback (most recent call last):\n",
      "  File \"C:\\Users\\98ric\\AppData\\Roaming\\Python\\Python38\\site-packages\\IPython\\core\\interactiveshell.py\", line 3417, in run_code\n",
      "    exec(code_obj, self.user_global_ns, self.user_ns)\n",
      "  File \"<ipython-input-2-d50cfae495d9>\", line 3, in <module>\n",
      "    spreading = snap.LoadEdgeList(snap.TNGraph, \"Data/spreading.edgelist\", 0, 1)\n",
      "  File \"C:\\tools\\Anaconda3\\lib\\site-packages\\snap\\snap.py\", line 34067, in LoadEdgeList\n",
      "    return _LoadEdgeList(GraphType, InFNm, SrcColId, DstColId)\n",
      "  File \"C:\\tools\\Anaconda3\\lib\\site-packages\\snap\\snap.py\", line 32435, in LoadEdgeList\n",
      "    if tspec == PNGraph : return LoadEdgeList_PNGraph(*args)\n",
      "RuntimeError: Can not open file 'Data/spreading.edgelist'.\n",
      "\n",
      "During handling of the above exception, another exception occurred:\n",
      "\n",
      "Traceback (most recent call last):\n",
      "  File \"C:\\Users\\98ric\\AppData\\Roaming\\Python\\Python38\\site-packages\\IPython\\core\\interactiveshell.py\", line 2044, in showtraceback\n",
      "    stb = value._render_traceback_()\n",
      "AttributeError: 'RuntimeError' object has no attribute '_render_traceback_'\n",
      "\n",
      "During handling of the above exception, another exception occurred:\n",
      "\n",
      "Traceback (most recent call last):\n",
      "  File \"C:\\Users\\98ric\\AppData\\Roaming\\Python\\Python38\\site-packages\\IPython\\core\\ultratb.py\", line 1169, in get_records\n",
      "    return _fixed_getinnerframes(etb, number_of_lines_of_context, tb_offset)\n",
      "  File \"C:\\Users\\98ric\\AppData\\Roaming\\Python\\Python38\\site-packages\\IPython\\core\\ultratb.py\", line 316, in wrapped\n",
      "    return f(*args, **kwargs)\n",
      "  File \"C:\\Users\\98ric\\AppData\\Roaming\\Python\\Python38\\site-packages\\IPython\\core\\ultratb.py\", line 350, in _fixed_getinnerframes\n",
      "    records = fix_frame_records_filenames(inspect.getinnerframes(etb, context))\n",
      "  File \"C:\\tools\\Anaconda3\\lib\\inspect.py\", line 1503, in getinnerframes\n",
      "    frameinfo = (tb.tb_frame,) + getframeinfo(tb, context)\n",
      "  File \"C:\\tools\\Anaconda3\\lib\\inspect.py\", line 1465, in getframeinfo\n",
      "    lines, lnum = findsource(frame)\n",
      "  File \"C:\\Users\\98ric\\AppData\\Roaming\\Python\\Python38\\site-packages\\IPython\\core\\ultratb.py\", line 170, in findsource\n",
      "    file = getsourcefile(object) or getfile(object)\n",
      "  File \"C:\\tools\\Anaconda3\\lib\\inspect.py\", line 705, in getsourcefile\n",
      "    if os.path.exists(filename):\n",
      "  File \"C:\\tools\\Anaconda3\\lib\\genericpath.py\", line 19, in exists\n",
      "    os.stat(path)\n",
      "KeyboardInterrupt\n"
     ]
    },
    {
     "ename": "TypeError",
     "evalue": "object of type 'NoneType' has no len()",
     "output_type": "error",
     "traceback": [
      "\u001b[1;31m---------------------------------------------------------------------------\u001b[0m",
      "\u001b[1;31mRuntimeError\u001b[0m                              Traceback (most recent call last)",
      "    \u001b[1;31m[... skipping hidden 1 frame]\u001b[0m\n",
      "\u001b[1;32m<ipython-input-2-d50cfae495d9>\u001b[0m in \u001b[0;36m<module>\u001b[1;34m\u001b[0m\n\u001b[0;32m      2\u001b[0m \u001b[0mfollowers\u001b[0m \u001b[1;33m=\u001b[0m \u001b[0msnap\u001b[0m\u001b[1;33m.\u001b[0m\u001b[0mLoadEdgeList\u001b[0m\u001b[1;33m(\u001b[0m\u001b[0msnap\u001b[0m\u001b[1;33m.\u001b[0m\u001b[0mTNGraph\u001b[0m\u001b[1;33m,\u001b[0m \u001b[1;34m\"Data/higgs-social_network.edgelist\"\u001b[0m\u001b[1;33m,\u001b[0m \u001b[1;36m0\u001b[0m\u001b[1;33m,\u001b[0m \u001b[1;36m1\u001b[0m\u001b[1;33m)\u001b[0m\u001b[1;33m\u001b[0m\u001b[1;33m\u001b[0m\u001b[0m\n\u001b[1;32m----> 3\u001b[1;33m \u001b[0mspreading\u001b[0m \u001b[1;33m=\u001b[0m \u001b[0msnap\u001b[0m\u001b[1;33m.\u001b[0m\u001b[0mLoadEdgeList\u001b[0m\u001b[1;33m(\u001b[0m\u001b[0msnap\u001b[0m\u001b[1;33m.\u001b[0m\u001b[0mTNGraph\u001b[0m\u001b[1;33m,\u001b[0m \u001b[1;34m\"Data/spreading.edgelist\"\u001b[0m\u001b[1;33m,\u001b[0m \u001b[1;36m0\u001b[0m\u001b[1;33m,\u001b[0m \u001b[1;36m1\u001b[0m\u001b[1;33m)\u001b[0m\u001b[1;33m\u001b[0m\u001b[1;33m\u001b[0m\u001b[0m\n\u001b[0m",
      "\u001b[1;32mC:\\tools\\Anaconda3\\lib\\site-packages\\snap\\snap.py\u001b[0m in \u001b[0;36mLoadEdgeList\u001b[1;34m(GraphType, InFNm, SrcColId, DstColId, Separator)\u001b[0m\n\u001b[0;32m  34066\u001b[0m     \u001b[1;32mif\u001b[0m \u001b[0mSeparator\u001b[0m \u001b[1;33m==\u001b[0m \u001b[1;34m\" \"\u001b[0m\u001b[1;33m:\u001b[0m\u001b[1;33m\u001b[0m\u001b[1;33m\u001b[0m\u001b[0m\n\u001b[1;32m> 34067\u001b[1;33m         \u001b[1;32mreturn\u001b[0m \u001b[0m_LoadEdgeList\u001b[0m\u001b[1;33m(\u001b[0m\u001b[0mGraphType\u001b[0m\u001b[1;33m,\u001b[0m \u001b[0mInFNm\u001b[0m\u001b[1;33m,\u001b[0m \u001b[0mSrcColId\u001b[0m\u001b[1;33m,\u001b[0m \u001b[0mDstColId\u001b[0m\u001b[1;33m)\u001b[0m\u001b[1;33m\u001b[0m\u001b[1;33m\u001b[0m\u001b[0m\n\u001b[0m\u001b[0;32m  34068\u001b[0m     \u001b[1;32melse\u001b[0m\u001b[1;33m:\u001b[0m\u001b[1;33m\u001b[0m\u001b[1;33m\u001b[0m\u001b[0m\n",
      "\u001b[1;32mC:\\tools\\Anaconda3\\lib\\site-packages\\snap\\snap.py\u001b[0m in \u001b[0;36mLoadEdgeList\u001b[1;34m(tspec, *args)\u001b[0m\n\u001b[0;32m  32434\u001b[0m     \u001b[1;32mif\u001b[0m \u001b[0mtspec\u001b[0m \u001b[1;33m==\u001b[0m \u001b[0mPDirNet\u001b[0m\u001b[1;33m:\u001b[0m \u001b[1;32mreturn\u001b[0m \u001b[0mLoadEdgeList_PDirNet\u001b[0m\u001b[1;33m(\u001b[0m\u001b[1;33m*\u001b[0m\u001b[0margs\u001b[0m\u001b[1;33m)\u001b[0m\u001b[1;33m\u001b[0m\u001b[1;33m\u001b[0m\u001b[0m\n\u001b[1;32m> 32435\u001b[1;33m     \u001b[1;32mif\u001b[0m \u001b[0mtspec\u001b[0m \u001b[1;33m==\u001b[0m \u001b[0mPNGraph\u001b[0m \u001b[1;33m:\u001b[0m \u001b[1;32mreturn\u001b[0m \u001b[0mLoadEdgeList_PNGraph\u001b[0m\u001b[1;33m(\u001b[0m\u001b[1;33m*\u001b[0m\u001b[0margs\u001b[0m\u001b[1;33m)\u001b[0m\u001b[1;33m\u001b[0m\u001b[1;33m\u001b[0m\u001b[0m\n\u001b[0m\u001b[0;32m  32436\u001b[0m     \u001b[1;32mif\u001b[0m \u001b[0mtspec\u001b[0m \u001b[1;33m==\u001b[0m \u001b[0mPNEANet\u001b[0m \u001b[1;33m:\u001b[0m \u001b[1;32mreturn\u001b[0m \u001b[0mLoadEdgeList_PNEANet\u001b[0m\u001b[1;33m(\u001b[0m\u001b[1;33m*\u001b[0m\u001b[0margs\u001b[0m\u001b[1;33m)\u001b[0m\u001b[1;33m\u001b[0m\u001b[1;33m\u001b[0m\u001b[0m\n",
      "\u001b[1;31mRuntimeError\u001b[0m: Can not open file 'Data/spreading.edgelist'.",
      "\nDuring handling of the above exception, another exception occurred:\n",
      "\u001b[1;31mAttributeError\u001b[0m                            Traceback (most recent call last)",
      "\u001b[1;32m~\\AppData\\Roaming\\Python\\Python38\\site-packages\\IPython\\core\\interactiveshell.py\u001b[0m in \u001b[0;36mshowtraceback\u001b[1;34m(self, exc_tuple, filename, tb_offset, exception_only, running_compiled_code)\u001b[0m\n\u001b[0;32m   2043\u001b[0m                         \u001b[1;31m# in the engines. This should return a list of strings.\u001b[0m\u001b[1;33m\u001b[0m\u001b[1;33m\u001b[0m\u001b[1;33m\u001b[0m\u001b[0m\n\u001b[1;32m-> 2044\u001b[1;33m                         \u001b[0mstb\u001b[0m \u001b[1;33m=\u001b[0m \u001b[0mvalue\u001b[0m\u001b[1;33m.\u001b[0m\u001b[0m_render_traceback_\u001b[0m\u001b[1;33m(\u001b[0m\u001b[1;33m)\u001b[0m\u001b[1;33m\u001b[0m\u001b[1;33m\u001b[0m\u001b[0m\n\u001b[0m\u001b[0;32m   2045\u001b[0m                     \u001b[1;32mexcept\u001b[0m \u001b[0mException\u001b[0m\u001b[1;33m:\u001b[0m\u001b[1;33m\u001b[0m\u001b[1;33m\u001b[0m\u001b[0m\n",
      "\u001b[1;31mAttributeError\u001b[0m: 'RuntimeError' object has no attribute '_render_traceback_'",
      "\nDuring handling of the above exception, another exception occurred:\n",
      "\u001b[1;31mTypeError\u001b[0m                                 Traceback (most recent call last)",
      "    \u001b[1;31m[... skipping hidden 1 frame]\u001b[0m\n",
      "\u001b[1;32m~\\AppData\\Roaming\\Python\\Python38\\site-packages\\IPython\\core\\interactiveshell.py\u001b[0m in \u001b[0;36mshowtraceback\u001b[1;34m(self, exc_tuple, filename, tb_offset, exception_only, running_compiled_code)\u001b[0m\n\u001b[0;32m   2044\u001b[0m                         \u001b[0mstb\u001b[0m \u001b[1;33m=\u001b[0m \u001b[0mvalue\u001b[0m\u001b[1;33m.\u001b[0m\u001b[0m_render_traceback_\u001b[0m\u001b[1;33m(\u001b[0m\u001b[1;33m)\u001b[0m\u001b[1;33m\u001b[0m\u001b[1;33m\u001b[0m\u001b[0m\n\u001b[0;32m   2045\u001b[0m                     \u001b[1;32mexcept\u001b[0m \u001b[0mException\u001b[0m\u001b[1;33m:\u001b[0m\u001b[1;33m\u001b[0m\u001b[1;33m\u001b[0m\u001b[0m\n\u001b[1;32m-> 2046\u001b[1;33m                         stb = self.InteractiveTB.structured_traceback(etype,\n\u001b[0m\u001b[0;32m   2047\u001b[0m                                             value, tb, tb_offset=tb_offset)\n\u001b[0;32m   2048\u001b[0m \u001b[1;33m\u001b[0m\u001b[0m\n",
      "\u001b[1;32m~\\AppData\\Roaming\\Python\\Python38\\site-packages\\IPython\\core\\ultratb.py\u001b[0m in \u001b[0;36mstructured_traceback\u001b[1;34m(self, etype, value, tb, tb_offset, number_of_lines_of_context)\u001b[0m\n\u001b[0;32m   1433\u001b[0m         \u001b[1;32melse\u001b[0m\u001b[1;33m:\u001b[0m\u001b[1;33m\u001b[0m\u001b[1;33m\u001b[0m\u001b[0m\n\u001b[0;32m   1434\u001b[0m             \u001b[0mself\u001b[0m\u001b[1;33m.\u001b[0m\u001b[0mtb\u001b[0m \u001b[1;33m=\u001b[0m \u001b[0mtb\u001b[0m\u001b[1;33m\u001b[0m\u001b[1;33m\u001b[0m\u001b[0m\n\u001b[1;32m-> 1435\u001b[1;33m         return FormattedTB.structured_traceback(\n\u001b[0m\u001b[0;32m   1436\u001b[0m             self, etype, value, tb, tb_offset, number_of_lines_of_context)\n\u001b[0;32m   1437\u001b[0m \u001b[1;33m\u001b[0m\u001b[0m\n",
      "\u001b[1;32m~\\AppData\\Roaming\\Python\\Python38\\site-packages\\IPython\\core\\ultratb.py\u001b[0m in \u001b[0;36mstructured_traceback\u001b[1;34m(self, etype, value, tb, tb_offset, number_of_lines_of_context)\u001b[0m\n\u001b[0;32m   1333\u001b[0m         \u001b[1;32mif\u001b[0m \u001b[0mmode\u001b[0m \u001b[1;32min\u001b[0m \u001b[0mself\u001b[0m\u001b[1;33m.\u001b[0m\u001b[0mverbose_modes\u001b[0m\u001b[1;33m:\u001b[0m\u001b[1;33m\u001b[0m\u001b[1;33m\u001b[0m\u001b[0m\n\u001b[0;32m   1334\u001b[0m             \u001b[1;31m# Verbose modes need a full traceback\u001b[0m\u001b[1;33m\u001b[0m\u001b[1;33m\u001b[0m\u001b[1;33m\u001b[0m\u001b[0m\n\u001b[1;32m-> 1335\u001b[1;33m             return VerboseTB.structured_traceback(\n\u001b[0m\u001b[0;32m   1336\u001b[0m                 \u001b[0mself\u001b[0m\u001b[1;33m,\u001b[0m \u001b[0metype\u001b[0m\u001b[1;33m,\u001b[0m \u001b[0mvalue\u001b[0m\u001b[1;33m,\u001b[0m \u001b[0mtb\u001b[0m\u001b[1;33m,\u001b[0m \u001b[0mtb_offset\u001b[0m\u001b[1;33m,\u001b[0m \u001b[0mnumber_of_lines_of_context\u001b[0m\u001b[1;33m\u001b[0m\u001b[1;33m\u001b[0m\u001b[0m\n\u001b[0;32m   1337\u001b[0m             )\n",
      "\u001b[1;32m~\\AppData\\Roaming\\Python\\Python38\\site-packages\\IPython\\core\\ultratb.py\u001b[0m in \u001b[0;36mstructured_traceback\u001b[1;34m(self, etype, evalue, etb, tb_offset, number_of_lines_of_context)\u001b[0m\n\u001b[0;32m   1190\u001b[0m         \u001b[1;34m\"\"\"Return a nice text document describing the traceback.\"\"\"\u001b[0m\u001b[1;33m\u001b[0m\u001b[1;33m\u001b[0m\u001b[0m\n\u001b[0;32m   1191\u001b[0m \u001b[1;33m\u001b[0m\u001b[0m\n\u001b[1;32m-> 1192\u001b[1;33m         formatted_exception = self.format_exception_as_a_whole(etype, evalue, etb, number_of_lines_of_context,\n\u001b[0m\u001b[0;32m   1193\u001b[0m                                                                tb_offset)\n\u001b[0;32m   1194\u001b[0m \u001b[1;33m\u001b[0m\u001b[0m\n",
      "\u001b[1;32m~\\AppData\\Roaming\\Python\\Python38\\site-packages\\IPython\\core\\ultratb.py\u001b[0m in \u001b[0;36mformat_exception_as_a_whole\u001b[1;34m(self, etype, evalue, etb, number_of_lines_of_context, tb_offset)\u001b[0m\n\u001b[0;32m   1148\u001b[0m \u001b[1;33m\u001b[0m\u001b[0m\n\u001b[0;32m   1149\u001b[0m \u001b[1;33m\u001b[0m\u001b[0m\n\u001b[1;32m-> 1150\u001b[1;33m         \u001b[0mlast_unique\u001b[0m\u001b[1;33m,\u001b[0m \u001b[0mrecursion_repeat\u001b[0m \u001b[1;33m=\u001b[0m \u001b[0mfind_recursion\u001b[0m\u001b[1;33m(\u001b[0m\u001b[0morig_etype\u001b[0m\u001b[1;33m,\u001b[0m \u001b[0mevalue\u001b[0m\u001b[1;33m,\u001b[0m \u001b[0mrecords\u001b[0m\u001b[1;33m)\u001b[0m\u001b[1;33m\u001b[0m\u001b[1;33m\u001b[0m\u001b[0m\n\u001b[0m\u001b[0;32m   1151\u001b[0m \u001b[1;33m\u001b[0m\u001b[0m\n\u001b[0;32m   1152\u001b[0m         \u001b[0mframes\u001b[0m \u001b[1;33m=\u001b[0m \u001b[0mself\u001b[0m\u001b[1;33m.\u001b[0m\u001b[0mformat_records\u001b[0m\u001b[1;33m(\u001b[0m\u001b[0mrecords\u001b[0m\u001b[1;33m,\u001b[0m \u001b[0mlast_unique\u001b[0m\u001b[1;33m,\u001b[0m \u001b[0mrecursion_repeat\u001b[0m\u001b[1;33m)\u001b[0m\u001b[1;33m\u001b[0m\u001b[1;33m\u001b[0m\u001b[0m\n",
      "\u001b[1;32m~\\AppData\\Roaming\\Python\\Python38\\site-packages\\IPython\\core\\ultratb.py\u001b[0m in \u001b[0;36mfind_recursion\u001b[1;34m(etype, value, records)\u001b[0m\n\u001b[0;32m    449\u001b[0m     \u001b[1;31m# first frame (from in to out) that looks different.\u001b[0m\u001b[1;33m\u001b[0m\u001b[1;33m\u001b[0m\u001b[1;33m\u001b[0m\u001b[0m\n\u001b[0;32m    450\u001b[0m     \u001b[1;32mif\u001b[0m \u001b[1;32mnot\u001b[0m \u001b[0mis_recursion_error\u001b[0m\u001b[1;33m(\u001b[0m\u001b[0metype\u001b[0m\u001b[1;33m,\u001b[0m \u001b[0mvalue\u001b[0m\u001b[1;33m,\u001b[0m \u001b[0mrecords\u001b[0m\u001b[1;33m)\u001b[0m\u001b[1;33m:\u001b[0m\u001b[1;33m\u001b[0m\u001b[1;33m\u001b[0m\u001b[0m\n\u001b[1;32m--> 451\u001b[1;33m         \u001b[1;32mreturn\u001b[0m \u001b[0mlen\u001b[0m\u001b[1;33m(\u001b[0m\u001b[0mrecords\u001b[0m\u001b[1;33m)\u001b[0m\u001b[1;33m,\u001b[0m \u001b[1;36m0\u001b[0m\u001b[1;33m\u001b[0m\u001b[1;33m\u001b[0m\u001b[0m\n\u001b[0m\u001b[0;32m    452\u001b[0m \u001b[1;33m\u001b[0m\u001b[0m\n\u001b[0;32m    453\u001b[0m     \u001b[1;31m# Select filename, lineno, func_name to track frames with\u001b[0m\u001b[1;33m\u001b[0m\u001b[1;33m\u001b[0m\u001b[1;33m\u001b[0m\u001b[0m\n",
      "\u001b[1;31mTypeError\u001b[0m: object of type 'NoneType' has no len()"
     ]
    }
   ],
   "source": [
    "retweets = snap.LoadEdgeList(snap.TNGraph, \"Data/higgs-retweet_network.edgelist\", 0, 1)\n",
    "followers = snap.LoadEdgeList(snap.TNGraph, \"Data/higgs-social_network.edgelist\", 0, 1)\n",
    "spreading = snap.LoadEdgeList(snap.TNGraph, \"Data/spreading.edgelist\", 0, 1)\n"
   ]
  },
  {
   "cell_type": "code",
   "execution_count": 7,
   "metadata": {},
   "outputs": [],
   "source": [
    "spreading = snap.LoadEdgeList(snap.TNGraph, \"Data/spreading_reduced.edgelist\", 0, 1)"
   ]
  },
  {
   "cell_type": "markdown",
   "metadata": {},
   "source": [
    "# PageRank"
   ]
  },
  {
   "cell_type": "markdown",
   "metadata": {},
   "source": [
    "## Followers"
   ]
  },
  {
   "cell_type": "code",
   "execution_count": 4,
   "metadata": {},
   "outputs": [],
   "source": [
    "PRankH = followers.GetPageRank() # returns the PageRank for every node \n",
    "pageRankList = [] \n",
    "for item in PRankH: \n",
    "    pageRankList.append([item, PRankH[item]])\n",
    "\n",
    "dfPageRank = pd.DataFrame(pageRankList,columns=['Node', 'PageRank']) # create df with each node and the corresponding pagerank \n",
    "dfPageRank.sort_values(by=['PageRank'], inplace=True, ascending=False); "
   ]
  },
  {
   "cell_type": "code",
   "execution_count": 5,
   "metadata": {},
   "outputs": [
    {
     "data": {
      "text/html": [
       "<div>\n",
       "<style scoped>\n",
       "    .dataframe tbody tr th:only-of-type {\n",
       "        vertical-align: middle;\n",
       "    }\n",
       "\n",
       "    .dataframe tbody tr th {\n",
       "        vertical-align: top;\n",
       "    }\n",
       "\n",
       "    .dataframe thead th {\n",
       "        text-align: right;\n",
       "    }\n",
       "</style>\n",
       "<table border=\"1\" class=\"dataframe\">\n",
       "  <thead>\n",
       "    <tr style=\"text-align: right;\">\n",
       "      <th></th>\n",
       "      <th>Node</th>\n",
       "      <th>PageRank</th>\n",
       "    </tr>\n",
       "  </thead>\n",
       "  <tbody>\n",
       "    <tr>\n",
       "      <th>0</th>\n",
       "      <td>1</td>\n",
       "      <td>0.015214</td>\n",
       "    </tr>\n",
       "    <tr>\n",
       "      <th>1502</th>\n",
       "      <td>1503</td>\n",
       "      <td>0.002804</td>\n",
       "    </tr>\n",
       "    <tr>\n",
       "      <th>205</th>\n",
       "      <td>206</td>\n",
       "      <td>0.002742</td>\n",
       "    </tr>\n",
       "    <tr>\n",
       "      <th>137</th>\n",
       "      <td>138</td>\n",
       "      <td>0.002548</td>\n",
       "    </tr>\n",
       "    <tr>\n",
       "      <th>2054</th>\n",
       "      <td>2055</td>\n",
       "      <td>0.002487</td>\n",
       "    </tr>\n",
       "  </tbody>\n",
       "</table>\n",
       "</div>"
      ],
      "text/plain": [
       "      Node  PageRank\n",
       "0        1  0.015214\n",
       "1502  1503  0.002804\n",
       "205    206  0.002742\n",
       "137    138  0.002548\n",
       "2054  2055  0.002487"
      ]
     },
     "execution_count": 5,
     "metadata": {},
     "output_type": "execute_result"
    }
   ],
   "source": [
    "dfPageRank.head(5)"
   ]
  },
  {
   "cell_type": "markdown",
   "metadata": {},
   "source": [
    "## Spreading"
   ]
  },
  {
   "cell_type": "code",
   "execution_count": 8,
   "metadata": {},
   "outputs": [],
   "source": [
    "PRankH = spreading.GetPageRank()\n",
    "pageRankList = []\n",
    "for item in PRankH:\n",
    "    pageRankList.append([item, PRankH[item]])\n",
    "\n",
    "dfPageRank = pd.DataFrame(pageRankList,columns=['Node', 'PageRank'])\n",
    "dfPageRank.sort_values(by=['PageRank'], inplace=True, ascending=False);"
   ]
  },
  {
   "cell_type": "code",
   "execution_count": 1,
   "metadata": {
    "collapsed": true
   },
   "outputs": [
    {
     "ename": "NameError",
     "evalue": "name 'dfPageRank' is not defined",
     "output_type": "error",
     "traceback": [
      "\u001b[1;31m---------------------------------------------------------------------------\u001b[0m",
      "\u001b[1;31mNameError\u001b[0m                                 Traceback (most recent call last)",
      "\u001b[1;32m<ipython-input-1-02616a2015df>\u001b[0m in \u001b[0;36m<module>\u001b[1;34m\u001b[0m\n\u001b[1;32m----> 1\u001b[1;33m \u001b[0mdfPageRank\u001b[0m\u001b[1;33m[\u001b[0m\u001b[1;34m\"Node\"\u001b[0m\u001b[1;33m]\u001b[0m\u001b[1;33m.\u001b[0m\u001b[0mhead\u001b[0m\u001b[1;33m(\u001b[0m\u001b[1;36m100\u001b[0m\u001b[1;33m)\u001b[0m\u001b[1;33m\u001b[0m\u001b[1;33m\u001b[0m\u001b[0m\n\u001b[0m",
      "\u001b[1;31mNameError\u001b[0m: name 'dfPageRank' is not defined"
     ]
    }
   ],
   "source": [
    "dfPageRank[\"Node\"].head(100)"
   ]
  },
  {
   "cell_type": "markdown",
   "metadata": {},
   "source": [
    "# CELF"
   ]
  },
  {
   "cell_type": "code",
   "execution_count": 7,
   "metadata": {},
   "outputs": [],
   "source": [
    "def NormalizeData(data):\n",
    "    return (data - np.min(data)) / (np.max(data) - np.min(data))"
   ]
  },
  {
   "cell_type": "code",
   "execution_count": 39,
   "metadata": {},
   "outputs": [],
   "source": [
    "cont = 0\n",
    "def IC(g,S,p=0.5,mc=1000, debug=False):\n",
    "    global cont\n",
    "    \"\"\"\n",
    "    Input:  graph object, set of seed nodes, propagation probability\n",
    "            and the number of Monte-Carlo simulations\n",
    "    Output: average number of nodes influenced by the seed nodes\n",
    "    \"\"\"\n",
    "    \n",
    "    if(debug):\n",
    "        cont += 1\n",
    "        print(\"\\r\", \"MC: \"+str(cont)+\" / \"+str(len(g.nodes)), end=\"\")\n",
    "\n",
    "    # Loop over the Monte-Carlo Simulations\n",
    "    spread = []\n",
    "    for i in range(mc):\n",
    "        # Simulate propagation process      \n",
    "        new_active, A = S[:], S[:]\n",
    "        while new_active:\n",
    "\n",
    "            # For each newly active node, find its neighbors that become activated\n",
    "            new_ones = []\n",
    "            for node in new_active:\n",
    "                # get weight of the edges witht the neighborgs\n",
    "\n",
    "                # Determine neighbors that become infected\n",
    "                np.random.seed(i)\n",
    "                success = np.random.uniform(0,1,len(list(g.neighbors(node)))) < [g[node][neighborg][\"weight\"] for neighborg in g.neighbors(node)]\n",
    "                new_ones += list(np.extract(success, list(g.neighbors(node))))\n",
    "\n",
    "            new_active = list(set(new_ones) - set(A))\n",
    "            \n",
    "            # Add newly activated nodes to the set of activated nodes\n",
    "            A += new_active\n",
    "            \n",
    "        spread.append(len(A))\n",
    "        \n",
    "    return(np.mean(spread))"
   ]
  },
  {
   "cell_type": "code",
   "execution_count": 33,
   "metadata": {},
   "outputs": [],
   "source": [
    "def celf(g,k,p=0.1,mc=1000):  \n",
    "    \"\"\"\n",
    "    Input:  graph object, number of seed nodes\n",
    "    Output: optimal seed set, resulting spread, time for each iteration\n",
    "    \"\"\"\n",
    "      \n",
    "    # --------------------\n",
    "    # Find the first node with greedy algorithm\n",
    "    # --------------------\n",
    "    \n",
    "    # Calculate the first iteration sorted list\n",
    "    start_time = time.time() \n",
    "    marg_gain = [IC(g,[node],p,mc, debug=True) for node in g.nodes]\n",
    "\n",
    "    # Create the sorted list of nodes and their marginal gain \n",
    "    Q = sorted(zip(g.nodes, marg_gain), key=lambda x: x[1],reverse=True)\n",
    "\n",
    "    # Select the first node and remove from candidate list\n",
    "    S, spread, SPREAD = [Q[0][0]], Q[0][1], [Q[0][1]]\n",
    "    Q, LOOKUPS, timelapse = Q[1:], [len(g.nodes)], [time.time()-start_time]\n",
    "    \n",
    "    # --------------------\n",
    "    # Find the next k-1 nodes using the list-sorting procedure\n",
    "    # --------------------\n",
    "    \n",
    "    for step in range(k-1):    \n",
    "\n",
    "        print(\"CELF: \"+str(step)+\" / \"+str(k))\n",
    "\n",
    "        check, node_lookup = False, 0\n",
    "        \n",
    "        while not check:\n",
    "            \n",
    "            # Count the number of times the spread is computed\n",
    "            node_lookup += 1\n",
    "            \n",
    "            # Recalculate spread of top node\n",
    "            current = Q[0][0]\n",
    "            \n",
    "            # Evaluate the spread function and store the marginal gain in the list\n",
    "            Q[0] = (current,IC(g,S+[current],p,mc) - spread)\n",
    "\n",
    "            # Re-sort the list\n",
    "            Q = sorted(Q, key = lambda x: x[1], reverse = True)\n",
    "\n",
    "            # Check if previous top node stayed on top after the sort\n",
    "            check = (Q[0][0] == current)\n",
    "\n",
    "        # Select the next node\n",
    "        spread += Q[0][1]\n",
    "        S.append(Q[0][0])\n",
    "        SPREAD.append(spread)\n",
    "        LOOKUPS.append(node_lookup)\n",
    "        timelapse.append(time.time() - start_time)\n",
    "\n",
    "        # Remove the selected node from the list\n",
    "        Q = Q[1:]\n",
    "\n",
    "    return(S,SPREAD,timelapse,LOOKUPS)"
   ]
  },
  {
   "cell_type": "code",
   "execution_count": 3,
   "metadata": {},
   "outputs": [],
   "source": [
    "import networkx as nx\n",
    "g_nx = nx.read_edgelist(path=\"Data/spreading_reduced.edgelist\", nodetype=int, data=(('weight',float),), create_using=nx.DiGraph())"
   ]
  },
  {
   "cell_type": "code",
   "execution_count": 4,
   "metadata": {},
   "outputs": [
    {
     "data": {
      "text/plain": [
       "19944"
      ]
     },
     "execution_count": 4,
     "metadata": {},
     "output_type": "execute_result"
    }
   ],
   "source": [
    "len(g_nx.nodes)"
   ]
  },
  {
   "cell_type": "code",
   "execution_count": 41,
   "metadata": {
    "tags": []
   },
   "outputs": [
    {
     "name": "stdout",
     "output_type": "stream",
     "text": [
      " MC: 20032 / 19944CELF: 0 / 100\n",
      "CELF: 1 / 100\n",
      "CELF: 2 / 100\n",
      "CELF: 3 / 100\n",
      "CELF: 4 / 100\n",
      "CELF: 5 / 100\n",
      "CELF: 6 / 100\n",
      "CELF: 7 / 100\n",
      "CELF: 8 / 100\n",
      "CELF: 9 / 100\n",
      "CELF: 10 / 100\n",
      "CELF: 11 / 100\n",
      "CELF: 12 / 100\n",
      "CELF: 13 / 100\n",
      "CELF: 14 / 100\n",
      "CELF: 15 / 100\n",
      "CELF: 16 / 100\n",
      "CELF: 17 / 100\n",
      "CELF: 18 / 100\n",
      "CELF: 19 / 100\n",
      "CELF: 20 / 100\n",
      "CELF: 21 / 100\n",
      "CELF: 22 / 100\n",
      "CELF: 23 / 100\n",
      "CELF: 24 / 100\n",
      "CELF: 25 / 100\n",
      "CELF: 26 / 100\n",
      "CELF: 27 / 100\n",
      "CELF: 28 / 100\n",
      "CELF: 29 / 100\n",
      "CELF: 30 / 100\n",
      "CELF: 31 / 100\n",
      "CELF: 32 / 100\n",
      "CELF: 33 / 100\n",
      "CELF: 34 / 100\n",
      "CELF: 35 / 100\n",
      "CELF: 36 / 100\n",
      "CELF: 37 / 100\n",
      "CELF: 38 / 100\n",
      "CELF: 39 / 100\n",
      "CELF: 40 / 100\n",
      "CELF: 41 / 100\n",
      "CELF: 42 / 100\n",
      "CELF: 43 / 100\n",
      "CELF: 44 / 100\n",
      "CELF: 45 / 100\n",
      "CELF: 46 / 100\n",
      "CELF: 47 / 100\n",
      "CELF: 48 / 100\n",
      "CELF: 49 / 100\n",
      "CELF: 50 / 100\n",
      "CELF: 51 / 100\n",
      "CELF: 52 / 100\n",
      "CELF: 53 / 100\n",
      "CELF: 54 / 100\n",
      "CELF: 55 / 100\n",
      "CELF: 56 / 100\n",
      "CELF: 57 / 100\n",
      "CELF: 58 / 100\n",
      "CELF: 59 / 100\n",
      "CELF: 60 / 100\n",
      "CELF: 61 / 100\n",
      "CELF: 62 / 100\n",
      "CELF: 63 / 100\n",
      "CELF: 64 / 100\n",
      "CELF: 65 / 100\n",
      "CELF: 66 / 100\n",
      "CELF: 67 / 100\n",
      "CELF: 68 / 100\n",
      "CELF: 69 / 100\n",
      "CELF: 70 / 100\n",
      "CELF: 71 / 100\n",
      "CELF: 72 / 100\n",
      "CELF: 73 / 100\n",
      "CELF: 74 / 100\n",
      "CELF: 75 / 100\n",
      "CELF: 76 / 100\n",
      "CELF: 77 / 100\n",
      "CELF: 78 / 100\n",
      "CELF: 79 / 100\n",
      "CELF: 80 / 100\n",
      "CELF: 81 / 100\n",
      "CELF: 82 / 100\n",
      "CELF: 83 / 100\n",
      "CELF: 84 / 100\n",
      "CELF: 85 / 100\n",
      "CELF: 86 / 100\n",
      "CELF: 87 / 100\n",
      "CELF: 88 / 100\n",
      "CELF: 89 / 100\n",
      "CELF: 90 / 100\n",
      "CELF: 91 / 100\n",
      "CELF: 92 / 100\n",
      "CELF: 93 / 100\n",
      "CELF: 94 / 100\n",
      "CELF: 95 / 100\n",
      "CELF: 96 / 100\n",
      "CELF: 97 / 100\n",
      "CELF: 98 / 100\n",
      "celf output:   [88, 1, 3369, 6948, 407, 7551, 4, 403954, 14549, 301, 10, 339602, 408, 26, 76165, 6241, 83, 965, 35248, 267269, 383, 8756, 232850, 383474, 206362, 15, 1267, 6, 370, 5226, 2, 718, 23318, 138739, 22924, 186, 32, 11889, 2572, 38133, 392560, 50305, 398186, 133418, 8700, 42, 220, 254528, 72203, 51292, 230115, 550, 177829, 7801, 6585, 16801, 5335, 68304, 161272, 28854, 148960, 440391, 45472, 2687, 38819, 154584, 6708, 1250, 87601, 240547, 137329, 67504, 422519, 85434, 341612, 166216, 233404, 43, 154344, 5006, 442735, 128768, 3533, 93977, 144336, 198681, 60035, 4526, 40443, 445734, 400139, 295151, 227432, 154561, 79924, 14431, 67601, 258751, 364011, 349140]\n"
     ]
    }
   ],
   "source": [
    "# Run algorithm\n",
    "celf_output   = celf(g_nx, 100, p=0.2, mc = 100)\n",
    "\n",
    "# Print result\n",
    "print(\"celf output:   \" + str(celf_output[0]))"
   ]
  },
  {
   "cell_type": "markdown",
   "metadata": {},
   "source": [
    "## 100 Superspreaders for CELF\n",
    "\n",
    "[88, 1, 3369, 6948, 407, 7551, 4, 403954, 14549, 301, 10, 339602, 408, 26, 76165, 6241, 83, 965, 35248, 267269, 383, 8756, 232850, 383474, 206362, 15, 1267, 6, 370, 5226, 2, 718, 23318, 138739, 22924, 186, 32, 11889, 2572, 38133, 392560, 50305, 398186, 133418, 8700, 42, 220, 254528, 72203, 51292, 230115, 550, 177829, 7801, 6585, 16801, 5335, 68304, 161272, 28854, 148960, 440391, 45472, 2687, 38819, 154584, 6708, 1250, 87601, 240547, 137329, 67504, 422519, 85434, 341612, 166216, 233404, 43, 154344, 5006, 442735, 128768, 3533, 93977, 144336, 198681, 60035, 4526, 40443, 445734, 400139, 295151, 227432, 154561, 79924, 14431, 67601, 258751, 364011, 349140]"
   ]
  },
  {
   "cell_type": "code",
   "execution_count": 61,
   "metadata": {
    "scrolled": true
   },
   "outputs": [
    {
     "data": {
      "image/png": "[encoded data removed]",
      "text/plain": [
       "<Figure size 648x432 with 1 Axes>"
      ]
     },
     "metadata": {
      "needs_background": "light"
     },
     "output_type": "display_data"
    }
   ],
   "source": [
    "# Plot settings\n",
    "plt.rcParams['figure.figsize'] = (9,6)\n",
    "plt.rcParams['lines.linewidth'] = 4\n",
    "plt.rcParams['xtick.bottom'] = False\n",
    "plt.rcParams['ytick.left'] = False\n",
    "\n",
    "# Plot Computation Time\n",
    "plt.plot(range(1,len(celf_output[2])+1),celf_output[2],label=\"CELF\",color=\"#B3CDE3\")\n",
    "plt.ylabel('Computation Time (Seconds)'); plt.xlabel('Size of Seed Set')\n",
    "plt.title('Computation Time'); plt.legend(loc=2);"
   ]
  }
 ],
 "metadata": {
  "kernelspec": {
   "display_name": "Python 3",
   "language": "python",
   "name": "python3"
  },
  "language_info": {
   "codemirror_mode": {
    "name": "ipython",
    "version": 3
   },
   "file_extension": ".py",
   "mimetype": "text/x-python",
   "name": "python",
   "nbconvert_exporter": "python",
   "pygments_lexer": "ipython3",
   "version": "3.8.5"
  },
  "metadata": {
   "interpreter": {
    "hash": "49738bc05e722cfde14632854e66f22de9a6439a547d62a5d479941a9eb40117"
   }
  }
 },
 "nbformat": 4,
 "nbformat_minor": 4
}
