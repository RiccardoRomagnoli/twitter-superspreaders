{
 "cells": [
  {
   "cell_type": "markdown",
   "metadata": {},
   "source": [
    "# Match between Rolex clusters and MC influential nodes and PageRank"
   ]
  },
  {
   "cell_type": "code",
   "execution_count": 12,
   "metadata": {},
   "outputs": [],
   "source": [
    "import seaborn as sns\n",
    "import matplotlib.pyplot as plt\n",
    "import pandas as pd"
   ]
  },
  {
   "cell_type": "markdown",
   "metadata": {},
   "source": [
    "## Calculating the fractions"
   ]
  },
  {
   "cell_type": "code",
   "execution_count": 88,
   "metadata": {},
   "outputs": [],
   "source": [
    "# Nodes from MC and PageRank\n",
    "MC_nodes = [1,3,5,7]\n",
    "PageRank_nodes = [3,5,4,9]\n",
    "\n",
    "# Nodes Rolex clusters\n",
    "Rolex_nodes_cluster_1 = [1,3,5,6]\n",
    "Rolex_nodes_cluster_2 = [2,4,7,8]\n",
    "Rolex_nodes_cluster_3 = [9,10,11,12]\n",
    "\n",
    "# List of Rolex clusters \n",
    "Rolex_clusters = [Rolex_nodes_cluster_1, Rolex_nodes_cluster_2, Rolex_nodes_cluster_3]"
   ]
  },
  {
   "cell_type": "code",
   "execution_count": 89,
   "metadata": {},
   "outputs": [],
   "source": [
    "# Dictionary to save clusters fraction of match to MC and PageRank\n",
    "cluster_match = {}\n",
    "\n",
    "# Count fraction of nodes same for MC and PageRank for each cluster \n",
    "for i, cluster in enumerate(Rolex_clusters):\n",
    "    MC_fraction_same = len(set(cluster) & set(MC_nodes))/len(cluster)\n",
    "    PageRank_fraction_same = len(set(cluster) & set(PageRank_nodes))/len(cluster)\n",
    "    cluster_match[i+1] = [1, MC_fraction_same, PageRank_fraction_same]"
   ]
  },
  {
   "cell_type": "code",
   "execution_count": 90,
   "metadata": {},
   "outputs": [
    {
     "data": {
      "text/html": [
       "<div>\n",
       "<style scoped>\n",
       "    .dataframe tbody tr th:only-of-type {\n",
       "        vertical-align: middle;\n",
       "    }\n",
       "\n",
       "    .dataframe tbody tr th {\n",
       "        vertical-align: top;\n",
       "    }\n",
       "\n",
       "    .dataframe thead th {\n",
       "        text-align: right;\n",
       "    }\n",
       "</style>\n",
       "<table border=\"1\" class=\"dataframe\">\n",
       "  <thead>\n",
       "    <tr style=\"text-align: right;\">\n",
       "      <th></th>\n",
       "      <th>1</th>\n",
       "      <th>2</th>\n",
       "      <th>3</th>\n",
       "    </tr>\n",
       "  </thead>\n",
       "  <tbody>\n",
       "    <tr>\n",
       "      <th>0</th>\n",
       "      <td>1.00</td>\n",
       "      <td>1.00</td>\n",
       "      <td>1.00</td>\n",
       "    </tr>\n",
       "    <tr>\n",
       "      <th>1</th>\n",
       "      <td>0.75</td>\n",
       "      <td>0.25</td>\n",
       "      <td>0.00</td>\n",
       "    </tr>\n",
       "    <tr>\n",
       "      <th>2</th>\n",
       "      <td>0.50</td>\n",
       "      <td>0.25</td>\n",
       "      <td>0.25</td>\n",
       "    </tr>\n",
       "  </tbody>\n",
       "</table>\n",
       "</div>"
      ],
      "text/plain": [
       "      1     2     3\n",
       "0  1.00  1.00  1.00\n",
       "1  0.75  0.25  0.00\n",
       "2  0.50  0.25  0.25"
      ]
     },
     "execution_count": 90,
     "metadata": {},
     "output_type": "execute_result"
    }
   ],
   "source": [
    "cluster_match_df = pd.DataFrame.from_dict(cluster_match)\n",
    "#cluster_match_df = pd.DataFrame.from_dict(cluster_match, orient = 'index')\n",
    "cluster_match_df"
   ]
  },
  {
   "cell_type": "markdown",
   "metadata": {},
   "source": [
    "## Visualization"
   ]
  },
  {
   "cell_type": "code",
   "execution_count": 100,
   "metadata": {},
   "outputs": [
    {
     "data": {
      "image/png": "[encoded data removed]",
      "text/plain": [
       "<Figure size 720x720 with 2 Axes>"
      ]
     },
     "metadata": {},
     "output_type": "display_data"
    }
   ],
   "source": [
    "total = pd.DataFrame(cluster_match_df.iloc[0]).T\n",
    "MC = pd.DataFrame(cluster_match_df.iloc[1]).T\n",
    "PageRank = pd.DataFrame(cluster_match_df.iloc[2]).T\n",
    "\n",
    "fig, axes = plt.subplots(1, 2, figsize=(10, 10), sharey=True)\n",
    "fig.suptitle('Match between Rolex clusters and MC influential nodes and PageRank')\n",
    "\n",
    "# MC \n",
    "bar1 = sns.barplot(ax=axes[0], data=total, color='darkblue')\n",
    "bar2 = sns.barplot(ax=axes[0], data=MC, color='blue')\n",
    "axes[0].set_title(\"Monte Carlo\")\n",
    "\n",
    "# PageRank\n",
    "bar1 = sns.barplot(ax=axes[1], data=total, color='darkblue')\n",
    "bar2 = sns.barplot(ax=axes[1], data=PageRank, color='lightblue')\n",
    "axes[1].set_title(\"PageRank\")\n",
    "\n",
    "\n",
    "axes[0].set(xlabel='Rolex cluster', ylabel='Matching fraction')\n",
    "axes[1].set(xlabel='Rolex cluster')\n",
    "\n",
    "# show the graph\n",
    "plt.show()"
   ]
  },
  {
   "cell_type": "markdown",
   "metadata": {},
   "source": [
    "# Find common features"
   ]
  },
  {
   "cell_type": "code",
   "execution_count": null,
   "metadata": {},
   "outputs": [],
   "source": []
  }
 ],
 "metadata": {
  "kernelspec": {
   "display_name": "Python 3",
   "language": "python",
   "name": "python3"
  },
  "language_info": {
   "codemirror_mode": {
    "name": "ipython",
    "version": 3
   },
   "file_extension": ".py",
   "mimetype": "text/x-python",
   "name": "python",
   "nbconvert_exporter": "python",
   "pygments_lexer": "ipython3",
   "version": "3.8.5"
  }
 },
 "nbformat": 4,
 "nbformat_minor": 4
}
