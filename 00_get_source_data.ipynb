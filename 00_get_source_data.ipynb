{
 "cells": [
  {
   "cell_type": "markdown",
   "metadata": {},
   "source": [
    "# Get source data"
   ]
  },
  {
   "cell_type": "markdown",
   "metadata": {},
   "source": [
    "Download data from souce, unzip it and save the documents to the `data/` folder."
   ]
  },
  {
   "cell_type": "code",
   "execution_count": 1,
   "metadata": {},
   "outputs": [],
   "source": [
    "import os\n",
    "import urllib\n",
    "import zlib"
   ]
  },
  {
   "cell_type": "code",
   "execution_count": 2,
   "metadata": {},
   "outputs": [],
   "source": [
    "followers_link = \"https://snap.stanford.edu/data/higgs-social_network.edgelist.gz\"\n",
    "rt_link = \"https://snap.stanford.edu/data/higgs-retweet_network.edgelist.gz\"\n",
    "activity_link = \"https://snap.stanford.edu/data/higgs-activity_time.txt.gz\"\n",
    "\n",
    "data_path = \"data/\""
   ]
  },
  {
   "cell_type": "code",
   "execution_count": 3,
   "metadata": {},
   "outputs": [],
   "source": [
    "if not os.path.exists(data_path):\n",
    "        os.mkdir(data_path)\n",
    "\n",
    "for link in [followers_link, rt_link, activity_link]:\n",
    "    \n",
    "    f = urllib.request.urlopen(link) \n",
    "    decompressed_data = zlib.decompress(f.read(), 16 + zlib.MAX_WBITS)\n",
    "    \n",
    "    file_path = data_path + '.'.join(link.split('/')[-1].split('.')[:-1])\n",
    "\n",
    "    with open(file_path, 'wb') as f:\n",
    "        f.write(decompressed_data)"
   ]
  }
 ],
 "metadata": {
  "kernelspec": {
   "display_name": "Python 3",
   "language": "python",
   "name": "python3"
  },
  "language_info": {
   "codemirror_mode": {
    "name": "ipython",
    "version": 3
   },
   "file_extension": ".py",
   "mimetype": "text/x-python",
   "name": "python",
   "nbconvert_exporter": "python",
   "pygments_lexer": "ipython3",
   "version": "3.8.9"
  }
 },
 "nbformat": 4,
 "nbformat_minor": 4
}
