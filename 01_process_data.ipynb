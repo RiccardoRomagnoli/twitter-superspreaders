{
 "cells": [
  {
   "cell_type": "markdown",
   "metadata": {},
   "source": [
    "# Process data"
   ]
  },
  {
   "cell_type": "code",
   "execution_count": 22,
   "metadata": {},
   "outputs": [
    {
     "data": {
      "text/plain": [
       "<module 'src.process_data' from 'D:\\\\OneDrive\\\\Documenti\\\\Universita KTH\\\\P23 - 2020\\\\ID2211 - Data Mining\\\\twitter-superspreaders\\\\src\\\\process_data.py'>"
      ]
     },
     "execution_count": 22,
     "metadata": {},
     "output_type": "execute_result"
    }
   ],
   "source": [
    "import snap\n",
    "import importlib\n",
    "\n",
    "from src.load_and_save import load_networkx_directed_graph\n",
    "from src.process_data import *"
   ]
  },
  {
   "cell_type": "code",
   "execution_count": 12,
   "metadata": {},
   "outputs": [],
   "source": [
    "activity_path = \"data/higgs-activity_time.txt\"\n",
    "reduced_rt_path = \"data/higgs-retweet_network_reduced.edgelist\"\n",
    "followers_path = \"data/higgs-social_network.edgelist\"\n",
    "reduced_followers_path = \"data/higgs-social_network_reduced.edgelist\"\n",
    "\n",
    "spreading_path = \"data/spreading.edgelist\""
   ]
  },
  {
   "cell_type": "markdown",
   "metadata": {
    "collapsed": true
   },
   "source": [
    "## Create reduced retweet dataset"
   ]
  },
  {
   "cell_type": "code",
   "execution_count": 13,
   "metadata": {},
   "outputs": [],
   "source": [
    "SIZE = 1000"
   ]
  },
  {
   "cell_type": "code",
   "execution_count": 14,
   "metadata": {},
   "outputs": [
    {
     "name": "stderr",
     "output_type": "stream",
     "text": [
      "C:\\tools\\Anaconda3\\lib\\site-packages\\pandas\\core\\frame.py:4163: SettingWithCopyWarning: \n",
      "A value is trying to be set on a copy of a slice from a DataFrame\n",
      "\n",
      "See the caveats in the documentation: https://pandas.pydata.org/pandas-docs/stable/user_guide/indexing.html#returning-a-view-versus-a-copy\n",
      "  return super().drop(\n"
     ]
    },
    {
     "name": "stdout",
     "output_type": "stream",
     "text": [
      "            COUNT\n",
      "SRC  DST         \n",
      "2    314        1\n",
      "3    291        1\n",
      "4    88         2\n",
      "     349        2\n",
      "     677        1\n",
      "...           ...\n",
      "1262 27682      1\n",
      "1263 77         1\n",
      "1264 77         1\n",
      "1266 4          1\n",
      "1270 88         1\n",
      "\n",
      "[1000 rows x 1 columns]\n"
     ]
    }
   ],
   "source": [
    "_ = create_reduced_dataset(activity_path, SIZE, save=reduced_rt_path)"
   ]
  },
  {
   "cell_type": "markdown",
   "metadata": {},
   "source": [
    "## Generate spreading graph"
   ]
  },
  {
   "cell_type": "code",
   "execution_count": null,
   "metadata": {},
   "outputs": [],
   "source": [
    "followers = load_networkx_directed_graph(followers_path)\n",
    "rt_reduced = load_networkx_directed_graph(reduced_rt_path, weighted=True)"
   ]
  },
  {
   "cell_type": "code",
   "execution_count": null,
   "metadata": {},
   "outputs": [],
   "source": [
    "rt_reduced.nodes"
   ]
  },
  {
   "cell_type": "code",
   "execution_count": null,
   "metadata": {},
   "outputs": [],
   "source": [
    "build_spreading_graph(followers, rt_reduced)  # TODO, function not completed\n",
    "\"\"\"\n",
    "This cell should just create the graph and save it to spreading_path\n",
    "\"\"\""
   ]
  },
  {
   "cell_type": "code",
   "execution_count": null,
   "metadata": {},
   "outputs": [],
   "source": []
  }
 ],
 "metadata": {
  "kernelspec": {
   "display_name": "Python 3",
   "language": "python",
   "name": "python3"
  },
  "language_info": {
   "codemirror_mode": {
    "name": "ipython",
    "version": 3
   },
   "file_extension": ".py",
   "mimetype": "text/x-python",
   "name": "python",
   "nbconvert_exporter": "python",
   "pygments_lexer": "ipython3",
   "version": "3.8.5"
  },
  "metadata": {
   "interpreter": {
    "hash": "49738bc05e722cfde14632854e66f22de9a6439a547d62a5d479941a9eb40117"
   }
  }
 },
 "nbformat": 4,
 "nbformat_minor": 1
}
