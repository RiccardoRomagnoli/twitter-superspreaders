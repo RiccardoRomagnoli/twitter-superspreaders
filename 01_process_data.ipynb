{
 "cells": [
  {
   "cell_type": "markdown",
   "metadata": {},
   "source": [
    "# Process data"
   ]
  },
  {
   "cell_type": "code",
   "execution_count": 1,
   "metadata": {},
   "outputs": [],
   "source": [
    "import snap\n",
    "\n",
    "from src.load_and_save import load_networkx_directed_graph, save_networkx_directed_graph\n",
    "from src.process_data import *"
   ]
  },
  {
   "cell_type": "code",
   "execution_count": 2,
   "metadata": {},
   "outputs": [],
   "source": [
    "activity_path = \"data/higgs-activity_time.txt\"\n",
    "reduced_rt_path = \"data/higgs-retweet_network_reduced.edgelist\"\n",
    "followers_path = \"data/higgs-social_network.edgelist\"\n",
    "reduced_followers_path = \"data/higgs-social_network_reduced.edgelist\"\n",
    "\n",
    "spreading_path = \"data/spreading.edgelist\""
   ]
  },
  {
   "cell_type": "markdown",
   "metadata": {
    "collapsed": true
   },
   "source": [
    "## Create reduced retweet dataset"
   ]
  },
  {
   "cell_type": "code",
   "execution_count": 3,
   "metadata": {},
   "outputs": [],
   "source": [
    "SIZE = 1000"
   ]
  },
  {
   "cell_type": "code",
   "execution_count": 4,
   "metadata": {},
   "outputs": [],
   "source": [
    "_ = create_reduced_dataset(activity_path, SIZE, save=reduced_rt_path)"
   ]
  },
  {
   "cell_type": "markdown",
   "metadata": {},
   "source": [
    "## Generate spreading graph"
   ]
  },
  {
   "cell_type": "code",
   "execution_count": null,
   "metadata": {},
   "outputs": [],
   "source": [
    "followers = load_networkx_directed_graph(followers_path)\n",
    "rt_reduced = load_networkx_directed_graph(reduced_rt_path, weighted=True)"
   ]
  },
  {
   "cell_type": "code",
   "execution_count": null,
   "metadata": {},
   "outputs": [],
   "source": [
    "spreading = build_spreading_graph(followers, rt_reduced)\n",
    "save_networkx_directed_graph(spreading, spreading_path, weighted=True)"
   ]
  },
  {
   "cell_type": "code",
   "execution_count": null,
   "metadata": {},
   "outputs": [],
   "source": []
  }
 ],
 "metadata": {
  "kernelspec": {
   "display_name": "Python 3",
   "language": "python",
   "name": "python3"
  },
  "language_info": {
   "codemirror_mode": {
    "name": "ipython",
    "version": 3
   },
   "file_extension": ".py",
   "mimetype": "text/x-python",
   "name": "python",
   "nbconvert_exporter": "python",
   "pygments_lexer": "ipython3",
   "version": "3.8.9"
  }
 },
 "nbformat": 4,
 "nbformat_minor": 1
}
